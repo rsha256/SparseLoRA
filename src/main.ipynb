{
 "cells": [
  {
   "cell_type": "code",
   "execution_count": 1,
   "metadata": {},
   "outputs": [
    {
     "ename": "ModuleNotFoundError",
     "evalue": "No module named 'pandas'",
     "output_type": "error",
     "traceback": [
      "\u001b[0;31m---------------------------------------------------------------------------\u001b[0m",
      "\u001b[0;31mModuleNotFoundError\u001b[0m                       Traceback (most recent call last)",
      "\u001b[1;32m/Users/lancemathias/Projects/m221/SparseLoRA/src/main.ipynb Cell 1\u001b[0m line \u001b[0;36m2\n\u001b[1;32m      <a href='vscode-notebook-cell:/Users/lancemathias/Projects/m221/SparseLoRA/src/main.ipynb#W0sZmlsZQ%3D%3D?line=0'>1</a>\u001b[0m \u001b[39mimport\u001b[39;00m \u001b[39mnumpy\u001b[39;00m \u001b[39mas\u001b[39;00m \u001b[39mnp\u001b[39;00m\n\u001b[0;32m----> <a href='vscode-notebook-cell:/Users/lancemathias/Projects/m221/SparseLoRA/src/main.ipynb#W0sZmlsZQ%3D%3D?line=1'>2</a>\u001b[0m \u001b[39mimport\u001b[39;00m \u001b[39mpandas\u001b[39;00m \u001b[39mas\u001b[39;00m \u001b[39mpd\u001b[39;00m\n\u001b[1;32m      <a href='vscode-notebook-cell:/Users/lancemathias/Projects/m221/SparseLoRA/src/main.ipynb#W0sZmlsZQ%3D%3D?line=2'>3</a>\u001b[0m \u001b[39mfrom\u001b[39;00m \u001b[39mscipy\u001b[39;00m\u001b[39m.\u001b[39;00m\u001b[39msparse\u001b[39;00m\u001b[39m.\u001b[39;00m\u001b[39mlinalg\u001b[39;00m \u001b[39mimport\u001b[39;00m svds\n\u001b[1;32m      <a href='vscode-notebook-cell:/Users/lancemathias/Projects/m221/SparseLoRA/src/main.ipynb#W0sZmlsZQ%3D%3D?line=3'>4</a>\u001b[0m \u001b[39mfrom\u001b[39;00m \u001b[39mscipy\u001b[39;00m\u001b[39m.\u001b[39;00m\u001b[39msparse\u001b[39;00m \u001b[39mimport\u001b[39;00m csr_matrix, csc_matrix, random\n",
      "\u001b[0;31mModuleNotFoundError\u001b[0m: No module named 'pandas'"
     ]
    }
   ],
   "source": [
    "import numpy as np\n",
    "import pandas as pd\n",
    "from scipy.sparse.linalg import svds\n",
    "from scipy.sparse import csr_matrix, csc_matrix, random\n",
    "from sklearn.decomposition import TruncatedSVD\n",
    "from scipy import sparse\n",
    "import time\n",
    "import tqdm\n",
    "\n",
    "def generate_random_csr(n_rows, n_cols, density=0.2):\n",
    "    sparse_matrix = sparse.random(n_rows, n_cols, density=density, format='csr')\n",
    "    nnz = sparse_matrix.indptr[-1]\n",
    "    sparse_matrix.data = np.random.randint(128, size=nnz)\n",
    "    return sparse_matrix\n",
    "\n",
    "def sparse_random_matrix(m, n, density=0.1):\n",
    "    A = random(m, n, density=density, format='csr')\n",
    "    nnz = A.indptr[-1]\n",
    "    A.data = np.random.randn(nnz)\n",
    "    return A\n",
    "\n",
    "def soft_threshold(x, lambda_):\n",
    "    return np.sign(x) * np.maximum(np.abs(x) - lambda_, 0)\n",
    "\n",
    "def robust_pca(D, lambda_, tol, maxIter):\n",
    "    m, n = D.shape\n",
    "    Y = D.copy()\n",
    "    L = np.zeros_like(D)\n",
    "    S = np.zeros_like(D)\n",
    "    mu = 1e-3  # TODO: tune\n",
    "    rho = 1.5  # TODO: tune\n",
    "    error = tol + 1\n",
    "    k = 0\n",
    "\n",
    "    # Perform ADMM iterations\n",
    "    while k < maxIter and error > tol:\n",
    "        # Update L\n",
    "        U, Sigma, VT = svds(Y - S + Y/mu, k=min(m, n)-1)\n",
    "        Sigma_thresh = np.diag(np.maximum(Sigma - 1/mu, 0))\n",
    "        L = U @ Sigma_thresh @ VT\n",
    "\n",
    "        S = soft_threshold(Y - L + Y/mu, lambda_/mu)\n",
    "\n",
    "        Y += mu * rho * (D - L - S)\n",
    "\n",
    "        error = np.linalg.norm(D - L - S, 'fro') / np.linalg.norm(D, 'fro')\n",
    "\n",
    "        k += 1\n",
    "\n",
    "    return L, S\n",
    "\n",
    "# synthetic data set for testing\n",
    "m, n = 100, 50  # dimensions of the matrix\n",
    "rank = 5        # rank of the low-rank component\n",
    "sparsity = 0.1  # sparsity level of the sparse component\n",
    "\n",
    "# low-rank matrix\n",
    "U = np.random.randn(m, rank)\n",
    "V = np.random.randn(rank, n)\n",
    "L_true = U @ V\n",
    "\n",
    "# sparse matrix\n",
    "S_true = sparse_random_matrix(m, n, density=sparsity).A\n",
    "\n",
    "# data matrix\n",
    "D = L_true + S_true\n",
    "\n",
    "# params (for Robust PCA)\n",
    "lambda_ = 1 / np.sqrt(max(m, n))\n",
    "tol = 1e-5\n",
    "maxIter = 1000\n",
    "\n",
    "L, S = robust_pca(D, lambda_, tol, maxIter)\n",
    "\n",
    "print(f\"Rank of recovered low-rank matrix: {np.linalg.matrix_rank(L)}\")\n",
    "print(f\"Sparsity level of recovered sparse matrix: {np.count_nonzero(S) / (m*n)}\")\n",
    "print(\"Done with Robust PCA simulation\")"
   ]
  },
  {
   "cell_type": "code",
   "execution_count": 4,
   "metadata": {},
   "outputs": [
    {
     "name": "stdout",
     "output_type": "stream",
     "text": [
      "Collecting cvxpy\n",
      "  Downloading cvxpy-1.4.1-cp39-cp39-macosx_10_9_x86_64.whl (1.1 MB)\n",
      "\u001b[K     |████████████████████████████████| 1.1 MB 6.9 MB/s eta 0:00:01\n",
      "\u001b[?25hRequirement already satisfied: scipy>=1.1.0 in /Users/rsha256/opt/anaconda3/lib/python3.9/site-packages (from cvxpy) (1.7.1)\n",
      "Collecting pybind11\n",
      "  Downloading pybind11-2.11.1-py3-none-any.whl (227 kB)\n",
      "\u001b[K     |████████████████████████████████| 227 kB 29.0 MB/s eta 0:00:01\n",
      "\u001b[?25hCollecting clarabel>=0.5.0\n",
      "  Downloading clarabel-0.6.0-cp37-abi3-macosx_10_9_x86_64.macosx_11_0_arm64.macosx_10_9_universal2.whl (987 kB)\n",
      "\u001b[K     |████████████████████████████████| 987 kB 30.6 MB/s eta 0:00:01\n",
      "\u001b[?25hCollecting ecos>=2\n",
      "  Downloading ecos-2.0.12-cp39-cp39-macosx_10_9_x86_64.whl (90 kB)\n",
      "\u001b[K     |████████████████████████████████| 90 kB 17.4 MB/s eta 0:00:01\n",
      "\u001b[?25hCollecting scs>=3.0\n",
      "  Downloading scs-3.2.4.post1-cp39-cp39-macosx_10_9_x86_64.whl (108 kB)\n",
      "\u001b[K     |████████████████████████████████| 108 kB 11.6 MB/s eta 0:00:01\n",
      "\u001b[?25hCollecting osqp>=0.6.2\n",
      "  Downloading osqp-0.6.3-cp39-cp39-macosx_10_9_x86_64.whl (252 kB)\n",
      "\u001b[K     |████████████████████████████████| 252 kB 42.5 MB/s eta 0:00:01\n",
      "\u001b[?25hRequirement already satisfied: numpy>=1.15 in /Users/rsha256/opt/anaconda3/lib/python3.9/site-packages (from cvxpy) (1.20.3)\n",
      "Collecting qdldl\n",
      "  Downloading qdldl-0.1.7.post0-cp39-cp39-macosx_10_9_x86_64.whl (105 kB)\n",
      "\u001b[K     |████████████████████████████████| 105 kB 37.8 MB/s eta 0:00:01\n",
      "\u001b[?25hInstalling collected packages: qdldl, scs, pybind11, osqp, ecos, clarabel, cvxpy\n",
      "Successfully installed clarabel-0.6.0 cvxpy-1.4.1 ecos-2.0.12 osqp-0.6.3 pybind11-2.11.1 qdldl-0.1.7.post0 scs-3.2.4.post1\n",
      "Note: you may need to restart the kernel to use updated packages.\n"
     ]
    }
   ],
   "source": [
    "%pip install cvxpy"
   ]
  },
  {
   "cell_type": "code",
   "execution_count": 6,
   "metadata": {},
   "outputs": [
    {
     "name": "stdout",
     "output_type": "stream",
     "text": [
      "Rank of the recovered low-rank matrix: 50\n",
      "Sparsity level of the recovered sparse matrix: 1.0\n"
     ]
    }
   ],
   "source": [
    "import cvxpy as cp\n",
    "\n",
    "# synthetic data set for testing\n",
    "m, n = 100, 50  # dimensions of the matrix\n",
    "rank = 5        # rank of the low-rank component\n",
    "sparsity = 0.1  # sparsity level of the sparse component\n",
    "\n",
    "# low-rank matrix\n",
    "U = np.random.randn(m, rank)\n",
    "V = np.random.randn(rank, n)\n",
    "L_true = U @ V\n",
    "\n",
    "# rnd sparse matrix\n",
    "S_true = sparse_random_matrix(m, n, density=sparsity).A\n",
    "\n",
    "# data matrix\n",
    "D = L_true + S_true\n",
    "\n",
    "L = cp.Variable((m, n))\n",
    "S = cp.Variable((m, n))\n",
    "lambda_ = 1 / np.sqrt(max(m, n))\n",
    "\n",
    "# Robust PCA\n",
    "problem = cp.Problem(cp.Minimize(cp.normNuc(L) + lambda_ * cp.norm1(S)),\n",
    "                     [D == L + S])\n",
    "\n",
    "problem.solve(solver=cp.SCS)\n",
    "\n",
    "# low-rank\n",
    "L_optimal = L.value\n",
    "# sparse\n",
    "S_optimal = S.value\n",
    "\n",
    "print(\"Rank of the recovered low-rank matrix:\", np.linalg.matrix_rank(L_optimal))\n",
    "print(\"Sparsity level of the recovered sparse matrix:\", np.count_nonzero(S_optimal) / (m * n))"
   ]
  },
  {
   "cell_type": "code",
   "execution_count": 8,
   "metadata": {},
   "outputs": [
    {
     "name": "stdout",
     "output_type": "stream",
     "text": [
      "Rank of the recovered low-rank matrix: 50\n",
      "Sparsity level of the recovered sparse matrix: 1.0\n"
     ]
    }
   ],
   "source": [
    "import cvxpy as cp\n",
    "\n",
    "epsilon = 1e-5\n",
    "\n",
    "# synthetic data set for testing\n",
    "m, n = 100, 50  # dimensions of the matrix\n",
    "rank = 5        # rank of the low-rank component\n",
    "sparsity = 0.1  # sparsity level of the sparse component\n",
    "\n",
    "# low-rank matrix\n",
    "U = np.random.randn(m, rank)\n",
    "V = np.random.randn(rank, n)\n",
    "L_true = U @ V\n",
    "\n",
    "# rnd sparse matrix\n",
    "S_true = sparse_random_matrix(m, n, density=sparsity).A\n",
    "\n",
    "# data matrix\n",
    "D = L_true + S_true\n",
    "\n",
    "L = cp.Variable((m, n))\n",
    "S = cp.Variable((m, n))\n",
    "lambda_ = 1 / np.sqrt(max(m, n))\n",
    "\n",
    "# Robust PCA\n",
    "problem = cp.Problem(cp.Minimize(cp.normNuc(L) + lambda_ * cp.norm1(S)),\n",
    "                     [cp.norm(D - L - S, \"fro\") <= epsilon])\n",
    "\n",
    "problem.solve(solver=cp.SCS)\n",
    "\n",
    "# low-rank\n",
    "L_optimal = L.value\n",
    "# sparse\n",
    "S_optimal = S.value\n",
    "\n",
    "print(\"Rank of the recovered low-rank matrix:\", np.linalg.matrix_rank(L_optimal))\n",
    "print(\"Sparsity level of the recovered sparse matrix:\", np.count_nonzero(S_optimal) / (m * n))"
   ]
  },
  {
   "cell_type": "markdown",
   "metadata": {},
   "source": [
    "1. Add in a rank constraint and a non-zero contraint.\n",
    "1. Add in a cardinality constraint and a non-zero contraint."
   ]
  },
  {
   "cell_type": "code",
   "execution_count": null,
   "metadata": {},
   "outputs": [],
   "source": [
    "# benchmark\n"
   ]
  }
 ],
 "metadata": {
  "kernelspec": {
   "display_name": "base",
   "language": "python",
   "name": "python3"
  },
  "language_info": {
   "codemirror_mode": {
    "name": "ipython",
    "version": 3
   },
   "file_extension": ".py",
   "mimetype": "text/x-python",
   "name": "python",
   "nbconvert_exporter": "python",
   "pygments_lexer": "ipython3",
   "version": "3.10.13"
  }
 },
 "nbformat": 4,
 "nbformat_minor": 2
}
